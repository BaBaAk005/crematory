{
 "cells": [
  {
   "cell_type": "markdown",
   "id": "ef865c77-ea8d-4104-aeb1-a08064da23a8",
   "metadata": {},
   "source": [
    "#  ДЗ № 7 (Филогенетические деревья)\n",
    "\n",
    "##  Первая часть\n",
    "\n",
    "\n",
    "1) Первая последовательность ([Уханьский](https://www.ncbi.nlm.nih.gov/nuccore/NC_045512.2?from=21563&to=25384&report=fasta))\n",
    "2) Вторая последовательность ([Delta variant](https://www.ncbi.nlm.nih.gov/nuccore/OK091006.1?report=fasta&from=21563&to=25384))\n",
    "3) Третья ([Omicron](https://www.ncbi.nlm.nih.gov/nuccore/OU658298.1?report=fasta&from=21563&to=25384))\n",
    "4) 10825 (Из семинара)\n",
    "\n",
    "\n",
    "![tree SARS-CoV-2](SARS-CoV-2_2_fil.png)\n",
    "\n",
    "\n",
    "**Выводы:**\n",
    "1) Omicron и Delta больше похожи друг на друга,\n",
    "2) Уханьский референсный стоит в отдельной кладе,\n",
    "3) Я [пробластил](https://www.ncbi.nlm.nih.gov/nucleotide/OQ166287.1?report=genbank&log$=nuclalign&blast_rank=1&RID=YWMB0Z7R016) 10825, но так и не понял, что конкретно из себя представляет этот штамм и где он на филогенетическим древе должен находиться \n",
    "\n",
    "\n",
    "## Вторая часть\n",
    "\n",
    "Выбраны ортологи гена [ACE2](https://www.ncbi.nlm.nih.gov/gene/59272/ortholog/?scope=7742) у Homo sapiens, canis lupus, sus scrofa, mus musculus, rattus norvegicus и danio rerio. \n",
    "![Дерево для ACE2](ACE2_fil.png) \n",
    "\n",
    "Дерево для ACE2\n",
    "\n",
    "**Выводы:** \n",
    "1) Данио ренио не млекопитающее стоит поодаль от остальных,\n",
    "2) Мышь и крыса стоят в одной кладе, как и должно быть,\n",
    "3) Ген  ACE2 человека больше похож на собачий в этом выборе животных\n",
    "\n"
   ]
  }
 ],
 "metadata": {
  "kernelspec": {
   "display_name": "Python [conda env:.conda-python_main]",
   "language": "python",
   "name": "conda-env-.conda-python_main-py"
  },
  "language_info": {
   "codemirror_mode": {
    "name": "ipython",
    "version": 3
   },
   "file_extension": ".py",
   "mimetype": "text/x-python",
   "name": "python",
   "nbconvert_exporter": "python",
   "pygments_lexer": "ipython3",
   "version": "3.12.9"
  }
 },
 "nbformat": 4,
 "nbformat_minor": 5
}
